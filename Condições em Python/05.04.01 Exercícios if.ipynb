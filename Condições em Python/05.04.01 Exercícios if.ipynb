{
 "cells": [
  {
   "cell_type": "markdown",
   "metadata": {},
   "source": [
    "# Exercícios com if"
   ]
  },
  {
   "cell_type": "markdown",
   "metadata": {},
   "source": [
    "## 1. Cálculo de Bônus\n",
    "\n",
    "- Crie um programa que calcule e dê um print no bônus que os funcionários devem receber segundo a regra:\n",
    "\n",
    "A meta é 1000 vendas.<br> \n",
    "Se o valor de vendas for maior ou igual a meta, o valor do bônus do funcionário é 10% do valor de vendas.<br>\n",
    "Caso contrário o valor de bônus do funcionário é 0.<br>\n",
    "Print o bônus dos 3 funcionários"
   ]
  },
  {
   "cell_type": "code",
   "execution_count": 9,
   "metadata": {},
   "outputs": [
    {
     "name": "stdout",
     "output_type": "stream",
     "text": [
      "O funcionário 1 vendeu R$ 1000, e ganhou R$ 100.0 de bónus.\n",
      "O funcionário 2 não tem direito a bónus\n",
      "O funcionário 3 vendeu R$ 2700, e ganhou R$ 270.0 de bónus.\n"
     ]
    }
   ],
   "source": [
    "vendas_funcionario1 = 1000\n",
    "vendas_funcionario2 = 770\n",
    "vendas_funcionario3 = 2700\n",
    "\n",
    "#crie seu código aqui\n",
    "meta = 1000\n",
    "if vendas_funcionario1 >= meta:\n",
    "    bonus_funcionario1 = vendas_funcionario1 * 0.10\n",
    "    print('O funcionário 1 vendeu R$ {}, e ganhou R$ {} de bónus.'.format(vendas_funcionario1,bonus_funcionario1))\n",
    "else:\n",
    "    print('O funcionário 1 não tem direito a bónus')\n",
    "if vendas_funcionario2 >= meta:\n",
    "    bonus_funcionario2 = vendas_funcionario2 * 0.10\n",
    "    print('O funcionário 2 vendeu R$ {}, e ganhou R$ {} de bónus.'.format(vendas_funcionario2,bonus_funcionario2))\n",
    "else:\n",
    "    print('O funcionário 2 não tem direito a bónus')\n",
    "if vendas_funcionario3 >= meta:\n",
    "    bonus_funcionario3 = vendas_funcionario3 * 0.10\n",
    "    print('O funcionário 3 vendeu R$ {}, e ganhou R$ {} de bónus.'.format(vendas_funcionario3,bonus_funcionario3))\n",
    "else:\n",
    "    print('O funcionário 3 não tem direito a bónus')"
   ]
  },
  {
   "cell_type": "raw",
   "metadata": {},
   "source": [
    "Resposta:\n",
    "O funcionário 1 ganhou 100 de bônus\n",
    "O funcionário 2 ganhou 0 de bônus\n",
    "O funcionário 3 ganhou 270 de bônus"
   ]
  },
  {
   "cell_type": "markdown",
   "metadata": {},
   "source": [
    "## 2. Cálculo de bônus com uma nova regra\n",
    "\n",
    "- Agora, crie um novo código que calcule e dê um print no bônus dos funcionários novamente. Porém há uma nova regra nesse 2º caso:\n",
    "\n",
    "A meta é 1000 vendas<br>\n",
    "Agora, os funcionários que venderem muito acima da meta ganham mais bônus do que os outros. Então o bônus é definido da seguinte forma:<br>\n",
    "\n",
    "- Se vendas funcionário for maior ou igual a 2000, então o bônus é de 15% sobre o valor de vendas\n",
    "- Se vendas funcionário for menor do que 2000 e maior ou igual a 1000, então o bônus é de 10% sobre o valor de vendas\n",
    "- Se vendas funcionário for menos do que 1000 então o bônus do funcionário é de 0.\n",
    "\n",
    "Use as mesmas variáveis de vendas_funcionários"
   ]
  },
  {
   "cell_type": "code",
   "execution_count": 11,
   "metadata": {},
   "outputs": [
    {
     "name": "stdout",
     "output_type": "stream",
     "text": [
      "O funcionário 1 vendeu o total de R$ 1000, e tem direito a bônus de R$ 100.0\n",
      "O funcionário 2 não tem direito a bônus\n",
      "O funcionário 3 vendeu o total de R$ 2700, e tem direito a bônus de R$ 405.0\n"
     ]
    }
   ],
   "source": [
    "vendas_funcionario1 = 1000\n",
    "vendas_funcionario2 = 770\n",
    "vendas_funcionario3 = 2700\n",
    "meta = 1000\n",
    "#crie seu código aqui\n",
    "#obs: há 2 formas de fazer, com if dentro de if ou então com if e elif. Escolha a que você preferir\n",
    "if vendas_funcionario1 >= meta:\n",
    "    if vendas_funcionario1 < 2000:\n",
    "        bonus_funcionario1 = vendas_funcionario1 * 0.10\n",
    "        print('O funcionário 1 vendeu o total de R$ {}, e tem direito a bônus de R$ {}'.format(vendas_funcionario1,bonus_funcionario1))\n",
    "    else:\n",
    "        bonus_funcionario1 = vendas_funcionario1 * 0.15\n",
    "        print('O funcionário 1 vendeu o total de R$ {}, e tem direito a bônus de R$ {}'.format(vendas_funcionario1,bonus_funcionario1))\n",
    "else:\n",
    "    bonus_funcionario1 = 0\n",
    "    print('O funcionário 1 não tem direito a bônus')\n",
    "\n",
    "if vendas_funcionario2 >= meta:\n",
    "    if vendas_funcionario2 < 2000:\n",
    "        bonus_funcionario2 = vendas_funcionario2 * 0.10\n",
    "        print('O funcionário 2 vendeu o total de R$ {}, e tem direito a bônus de R$ {}'.format(vendas_funcionario2,bonus_funcionario2))\n",
    "    else:\n",
    "        bonus_funcionario2 = vendas_funcionario2 * 0.15\n",
    "        print('O funcionário 2 vendeu o total de R$ {}, e tem direito a bônus de R$ {}'.format(vendas_funcionario2,bonus_funcionario2))\n",
    "else:\n",
    "    bonus_funcionario1 = 0\n",
    "    print('O funcionário 2 não tem direito a bônus')\n",
    "    \n",
    "if vendas_funcionario3 >= meta:\n",
    "    if vendas_funcionario3 < 2000:\n",
    "        bonus_funcionario3 = vendas_funcionario3 * 0.10\n",
    "        print('O funcionário 3 vendeu o total de R$ {}, e tem direito a bônus de R$ {}'.format(vendas_funcionario3,bonus_funcionario3))\n",
    "    else:\n",
    "        bonus_funcionario3 = vendas_funcionario3 * 0.15\n",
    "        print('O funcionário 3 vendeu o total de R$ {}, e tem direito a bônus de R$ {}'.format(vendas_funcionario3,bonus_funcionario3))\n",
    "else:\n",
    "    bonus_funcionario3 = 0\n",
    "    print('O funcionário 3 não tem direito a bônus')\n",
    "\n"
   ]
  },
  {
   "cell_type": "raw",
   "metadata": {},
   "source": [
    "Resposta:\n",
    "O funcionário 1 ganhou 100 de bônus\n",
    "O funcionário 2 ganhou 0 de bônus\n",
    "O funcionário 3 ganhou 405 de bônus"
   ]
  }
 ],
 "metadata": {
  "kernelspec": {
   "display_name": "Python 3.10.5 64-bit (windows store)",
   "language": "python",
   "name": "python3"
  },
  "language_info": {
   "codemirror_mode": {
    "name": "ipython",
    "version": 3
   },
   "file_extension": ".py",
   "mimetype": "text/x-python",
   "name": "python",
   "nbconvert_exporter": "python",
   "pygments_lexer": "ipython3",
   "version": "3.10.5"
  },
  "vscode": {
   "interpreter": {
    "hash": "45bdd4b5b0aa61bc8f8cffae1ebc2ac17869ab76e20cdaf57ab34975c00198d5"
   }
  }
 },
 "nbformat": 4,
 "nbformat_minor": 4
}
