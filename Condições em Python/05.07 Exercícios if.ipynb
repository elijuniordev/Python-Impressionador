{
 "cells": [
  {
   "cell_type": "markdown",
   "metadata": {},
   "source": [
    "# Exercícios"
   ]
  },
  {
   "cell_type": "markdown",
   "metadata": {},
   "source": [
    "## 1. Criando um mini sistema de controle de estoque\n",
    "\n",
    "- Crie um sistema para ser usado pelo time de controle de estoque de um centro de distribuição.\n",
    "- Imagine que ao fim de todo dia, o time conta quantas unidades de produto existem no estoque. Se tivermos um estoque abaixo do estoque permitido para aquela categoria do produto, o time deve ser avisado (print) para fazer um novo pedido daquele produto.\n",
    "- Cada categoria de produto tem um estoque mínimo diferente, segundo a regra abaixo:\n",
    "\n",
    "- alimentos -> Estoque mínimo: 50\n",
    "- bebidas -> Estoque mínimo: 75\n",
    "- limpeza -> Estoque mínimo: 30\n",
    "\n",
    "Para isso vamos criar um programa que pede 3 inputs do usuário: nome do produto, categoria e quantidade atual em estoque.\n",
    "\n",
    "Se o produto tiver abaixo do estoque mínimo da categoria dele, o programa deve printar a mensagem \"Solicitar {produto} à equipe de compras, temos apenas {unidades} em estoque\"\n",
    "\n",
    "Exemplo: Se o usuário preenche os inputs com: bebidas, dolly, 90, o programa não deve exibir nenhuma mensagem.<br>\n",
    "Agora, se o usuário preenche os inputs com: bebidas, guaraná, 60, o programa deve exibir a mensagem \"Solicitar guaraná à equipe de compras, temos apenas 60 unidades em estoque.\n",
    "\n",
    "Obs: lembre de usar o int() para transformar o número inserido pelo usuário no input de string para int.<br>\n",
    "Obs2: Caso o usuário não preencha alguma das 3 informações, o programa deve exibir uma mensagem para avisá-lo de preencher corretamente."
   ]
  },
  {
   "cell_type": "code",
   "execution_count": 21,
   "metadata": {},
   "outputs": [
    {
     "name": "stdout",
     "output_type": "stream",
     "text": [
      "Há produtos suficientes em estoque, não é necessário a compra.\n"
     ]
    }
   ],
   "source": [
    "#seu código aqui\n",
    "nomeproduto = input('Digite o nome do produto: ')\n",
    "categoria = input('Digite a categoria: (Alimentos, Bebidas ou Limpeza')\n",
    "quant_atual = input('Digite a quantidade atual do produto: ')\n",
    "\n",
    "\n",
    "if nomeproduto and categoria and quant_atual:\n",
    "    quant_atual = int(quant_atual)\n",
    "    if categoria.lower() == 'alimentos':\n",
    "        if quant_atual < 50:\n",
    "            print('Solicitar o produto {} à equipe de compras, temos apenas {} unidades em estoque.'.format(nomeproduto,quant_atual))\n",
    "        else:\n",
    "            print('Há produtos suficientes em estoque, não é necessário a compra.')\n",
    "    elif categoria.lower() == 'bebidas':\n",
    "        if quant_atual < 75:\n",
    "            print('Solicitar o produto {} à equipe de compras, temos apenas {} unidades em estoque.'.format(nomeproduto,quant_atual))\n",
    "        else:\n",
    "            print('Há produtos suficientes em estoque, não é necessário a compra.')\n",
    "    elif categoria.lower() == 'limpeza':\n",
    "        if quant_atual < 30:\n",
    "            print('Solicitar o produto {} à equipe de compras, temos apenas {} unidades em estoque.'.format(nomeproduto,quant_atual))\n",
    "        else:\n",
    "            print('Há produtos suficientes em estoque, não é necessário a compra.')\n",
    "    else:\n",
    "        print('Digitar a categoria correta para o produto')\n",
    "else:\n",
    "    print('Há erros de preenchimento verifique o nome do produto, categoria ou quantidade atual.')\n",
    "\n",
    "\n"
   ]
  }
 ],
 "metadata": {
  "kernelspec": {
   "display_name": "Python 3.10.5 64-bit (windows store)",
   "language": "python",
   "name": "python3"
  },
  "language_info": {
   "codemirror_mode": {
    "name": "ipython",
    "version": 3
   },
   "file_extension": ".py",
   "mimetype": "text/x-python",
   "name": "python",
   "nbconvert_exporter": "python",
   "pygments_lexer": "ipython3",
   "version": "3.10.5"
  },
  "vscode": {
   "interpreter": {
    "hash": "45bdd4b5b0aa61bc8f8cffae1ebc2ac17869ab76e20cdaf57ab34975c00198d5"
   }
  }
 },
 "nbformat": 4,
 "nbformat_minor": 4
}
