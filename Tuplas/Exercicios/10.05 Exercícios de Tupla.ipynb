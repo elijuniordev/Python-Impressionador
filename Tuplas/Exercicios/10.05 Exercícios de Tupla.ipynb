{
 "cells": [
  {
   "cell_type": "markdown",
   "metadata": {},
   "source": [
    "# Exercícios\n",
    "\n",
    "São exercícios bem parecidos com os que fizemos com listas. Mas na tupla, podemos não só trabalhar com índices, mas fazer o \"unpacking\" das tuplas, o que pode facilitar nossos códigos.\n",
    "\n",
    "## 1. Análise de Vendas\n",
    "\n",
    "Nesse exercício vamos fazer uma \"análise simples\" de atingimento de Meta.\n",
    "\n",
    "Temos uma lista com os vendedores e os valores de vendas e queremos identificar (printar) quais os vendedores que bateram a meta e qual foi o valor que eles venderam."
   ]
  },
  {
   "cell_type": "code",
   "execution_count": 15,
   "metadata": {},
   "outputs": [
    {
     "name": "stdout",
     "output_type": "stream",
     "text": [
      "O vendedor João bateu a meta, e vendeu R$ 15.000,00\n",
      "O vendedor Julia bateu a meta, e vendeu R$ 27.000,00\n",
      "O vendedor Ana bateu a meta, e vendeu R$ 10.300,00\n"
     ]
    }
   ],
   "source": [
    "from decimal import Decimal\n",
    "import locale\n",
    "locale.setlocale(locale.LC_ALL, 'pt_BR')\n",
    "\n",
    "meta = 10000\n",
    "vendas = [\n",
    "    ('João', 15000),\n",
    "    ('Julia', 27000),\n",
    "    ('Marcus', 9900),\n",
    "    ('Maria', 3750),\n",
    "    ('Ana', 10300),\n",
    "    ('Alon', 7870),\n",
    "]\n",
    "\n",
    "for venda in vendas:\n",
    "    nome, valor = venda\n",
    "    if valor >= meta:\n",
    "        print('O vendedor {} bateu a meta, e vendeu {}' .format(nome,(locale.currency(valor, grouping=True)))) "
   ]
  },
  {
   "cell_type": "code",
   "execution_count": 22,
   "metadata": {},
   "outputs": [
    {
     "name": "stdout",
     "output_type": "stream",
     "text": [
      "O vendedor João bateu a meta, e vendeu R$ 15.000,00\n",
      "O vendedor Julia bateu a meta, e vendeu R$ 27.000,00\n",
      "O vendedor Ana bateu a meta, e vendeu R$ 10.300,00\n"
     ]
    }
   ],
   "source": [
    "from decimal import Decimal\n",
    "import locale\n",
    "locale.setlocale(locale.LC_ALL, 'pt_BR')\n",
    "\n",
    "meta = 10000\n",
    "vendas = [\n",
    "    ('João', 15000),\n",
    "    ('Julia', 27000),\n",
    "    ('Marcus', 9900),\n",
    "    ('Maria', 3750),\n",
    "    ('Ana', 10300),\n",
    "    ('Alon', 7870),\n",
    "]\n",
    "\n",
    "for nome,valor in vendas:\n",
    "    if valor >= meta:\n",
    "        print('O vendedor {} bateu a meta, e vendeu {}' .format(nome,(locale.currency(valor, grouping=True)))) "
   ]
  },
  {
   "cell_type": "code",
   "execution_count": 12,
   "metadata": {},
   "outputs": [
    {
     "name": "stdout",
     "output_type": "stream",
     "text": [
      "O vendedor João bateu a meta de vende R$ 15000.\n",
      "O vendedor Julia bateu a meta de vende R$ 27000.\n",
      "O vendedor Ana bateu a meta de vende R$ 10300.\n"
     ]
    }
   ],
   "source": [
    "from decimal import Decimal\n",
    "import locale\n",
    "locale.setlocale(locale.LC_ALL, 'pt_BR')\n",
    "\n",
    "meta = 10000\n",
    "vendas = [\n",
    "    ('João', 15000),\n",
    "    ('Julia', 27000),\n",
    "    ('Marcus', 9900),\n",
    "    ('Maria', 3750),\n",
    "    ('Ana', 10300),\n",
    "    ('Alon', 7870),\n",
    "]\n",
    "\n",
    "bateram_meta = 0\n",
    "\n",
    "for i, venda in enumerate(vendas):\n",
    "    valor_vendas = venda[1]\n",
    "    if valor_vendas >= meta:\n",
    "        print('O vendedor {} bateu a meta de vende R$ {}.'.format(venda[0],valor_vendas))"
   ]
  },
  {
   "cell_type": "markdown",
   "metadata": {},
   "source": [
    "## 2. Comparação com Ano Anterior\n",
    "\n",
    "Digamos que você está analisando as vendas de produtos de um ecommerce e quer identificar quais produtos tiveram no ano de 2020 mais vendas do que no ano de 2019, para reportar isso para a diretoria.\n",
    "\n",
    "Sua resposta pode ser um print de cada produto, qual foi a venda de 2019, a venda de 2020 e o % de crescimento de 2020 para 2019.\n",
    "\n",
    "Lembrando, para calcular o % de crescimento de um produto de um ano para o outro, podemos fazer: (vendas_produto2020/vendas_produto2019 - 1)\n",
    "\n",
    "A lógica da tupla é: (produto, vendas2019, vendas2020)"
   ]
  },
  {
   "cell_type": "code",
   "execution_count": 21,
   "metadata": {},
   "outputs": [
    {
     "name": "stdout",
     "output_type": "stream",
     "text": [
      "O produto iphone teve 951642 vendas em 2020, contra 558147 vendas em 2019, e possui um crescimento de 70.50%\n",
      "O produto tv teve 787604 vendas em 2020, contra 405252 vendas em 2019, e possui um crescimento de 94.35%\n",
      "O produto máquina de café teve 867660 vendas em 2020, contra 718654 vendas em 2019, e possui um crescimento de 20.73%\n",
      "O produto notebook dell teve 694913 vendas em 2020, contra 422760 vendas em 2019, e possui um crescimento de 64.38%\n",
      "O produto notebook hp teve 539704 vendas em 2020, contra 154753 vendas em 2019, e possui um crescimento de 248.75%\n",
      "O produto microsoft surface teve 667179 vendas em 2020, contra 438508 vendas em 2019, e possui um crescimento de 52.15%\n",
      "O produto webcam teve 295633 vendas em 2020, contra 237467 vendas em 2019, e possui um crescimento de 24.49%\n",
      "O produto caixa de som teve 725316 vendas em 2020, contra 489705 vendas em 2019, e possui um crescimento de 48.11%\n",
      "O produto microfone teve 644622 vendas em 2020, contra 328311 vendas em 2019, e possui um crescimento de 96.34%\n",
      "O produto câmera canon teve 994303 vendas em 2020, contra 591120 vendas em 2019, e possui um crescimento de 68.21%\n"
     ]
    }
   ],
   "source": [
    "vendas_produtos = [('iphone', 558147, 951642), ('galaxy', 712350, 244295), ('ipad', 573823, 26964), ('tv', 405252, 787604), ('máquina de café', 718654, 867660), ('kindle', 531580, 78830), ('geladeira', 973139, 710331), ('adega', 892292, 646016), ('notebook dell', 422760, 694913), ('notebook hp', 154753, 539704), ('notebook asus', 887061, 324831), ('microsoft surface', 438508, 667179), ('webcam', 237467, 295633), ('caixa de som', 489705, 725316), ('microfone', 328311, 644622), ('câmera canon', 591120, 994303)]\n",
    "\n",
    "#seu código aqui\n",
    "\n",
    "for produto, vendas2019, vendas2020 in vendas_produtos:\n",
    "    if vendas2020 > vendas2019:\n",
    "        crescimento = (vendas2020 / vendas2019 - 1)\n",
    "        print('O produto {} teve {} vendas em 2020, contra {} vendas em 2019, e possui um crescimento de {:.2%}'.format(produto, vendas2020, vendas2019, crescimento))"
   ]
  }
 ],
 "metadata": {
  "kernelspec": {
   "display_name": "Python 3.10.6 64-bit (windows store)",
   "language": "python",
   "name": "python3"
  },
  "language_info": {
   "codemirror_mode": {
    "name": "ipython",
    "version": 3
   },
   "file_extension": ".py",
   "mimetype": "text/x-python",
   "name": "python",
   "nbconvert_exporter": "python",
   "pygments_lexer": "ipython3",
   "version": "3.10.6"
  },
  "vscode": {
   "interpreter": {
    "hash": "45bdd4b5b0aa61bc8f8cffae1ebc2ac17869ab76e20cdaf57ab34975c00198d5"
   }
  }
 },
 "nbformat": 4,
 "nbformat_minor": 4
}
