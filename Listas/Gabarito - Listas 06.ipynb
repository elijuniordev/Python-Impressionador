{
 "cells": [
  {
   "cell_type": "markdown",
   "metadata": {},
   "source": [
    "# Juntar Listas, Ordenar e Cuidados Especiais\n",
    "\n",
    "### 2 formas:\n",
    "\n",
    "- lista1.extend(lista2)\n",
    "- lista_nova = lista1 + lista2\n",
    "\n",
    "Obs: o Método .append não junta listas, mas adiciona um valor no final da lista"
   ]
  },
  {
   "cell_type": "code",
   "execution_count": null,
   "metadata": {},
   "outputs": [
    {
     "ename": "",
     "evalue": "",
     "output_type": "error",
     "traceback": [
      "\u001b[1;31mFailed to start the Kernel. \n",
      "\u001b[1;31mTraceback (most recent call last):\n",
      "\u001b[1;31m  File \"/home/elijunior/.local/lib/python3.10/site-packages/traitlets/config/application.py\", line 110, in inner\n",
      "\u001b[1;31m    return method(app, *args, **kwargs)\n",
      "\u001b[1;31m  File \"/home/elijunior/.local/lib/python3.10/site-packages/traitlets/config/application.py\", line 820, in parse_command_line\n",
      "\u001b[1;31m    self.update_config(self.cli_config)\n",
      "\u001b[1;31m  File \"/home/elijunior/.local/lib/python3.10/site-packages/traitlets/config/configurable.py\", line 230, in update_config\n",
      "\u001b[1;31m    self._load_config(config)\n",
      "\u001b[1;31m  File \"/home/elijunior/.local/lib/python3.10/site-packages/traitlets/config/configurable.py\", line 167, in _load_config\n",
      "\u001b[1;31m    with self.hold_trait_notifications():\n",
      "\u001b[1;31m  File \"/usr/lib/python3.10/contextlib.py\", line 142, in __exit__\n",
      "\u001b[1;31m    next(self.gen)\n",
      "\u001b[1;31m  File \"/home/elijunior/.local/lib/python3.10/site-packages/traitlets/traitlets.py\", line 1362, in hold_trait_notifications\n",
      "\u001b[1;31m    raise e\n",
      "\u001b[1;31m  File \"/home/elijunior/.local/lib/python3.10/site-packages/traitlets/traitlets.py\", line 1348, in hold_trait_notifications\n",
      "\u001b[1;31m    value = trait._cross_validate(self, getattr(self, name))\n",
      "\u001b[1;31m  File \"/home/elijunior/.local/lib/python3.10/site-packages/traitlets/traitlets.py\", line 729, in _cross_validate\n",
      "\u001b[1;31m    value = obj._trait_validators[self.name](obj, proposal)\n",
      "\u001b[1;31m  File \"/home/elijunior/.local/lib/python3.10/site-packages/traitlets/traitlets.py\", line 1132, in __call__\n",
      "\u001b[1;31m    return self.func(*args, **kwargs)\n",
      "\u001b[1;31m  File \"/home/elijunior/.local/lib/python3.10/site-packages/notebook/notebookapp.py\", line 1522, in _notebook_dir_validate\n",
      "\u001b[1;31m    raise TraitError(trans.gettext(\"No such notebook dir: '%r'\") % value)\n",
      "\u001b[1;31mtraitlets.traitlets.TraitError: No such notebook dir: ''/elijunior99/Python-Impressionador''\n",
      "\u001b[1;31m\n",
      "\u001b[1;31mDuring handling of the above exception, another exception occurred:\n",
      "\u001b[1;31m\n",
      "\u001b[1;31mTraceback (most recent call last):\n",
      "\u001b[1;31m  File \"/home/elijunior/.vscode/extensions/ms-toolsai.jupyter-2022.8.1002151035/pythonFiles/vscode_datascience_helpers/daemon/daemon_python.py\", line 54, in _decorator\n",
      "\u001b[1;31m    return func(self, *args, **kwargs)\n",
      "\u001b[1;31m  File \"/home/elijunior/.vscode/extensions/ms-toolsai.jupyter-2022.8.1002151035/pythonFiles/vscode_datascience_helpers/jupyter_daemon.py\", line 111, in m_exec_module_observable\n",
      "\u001b[1;31m    self._start_notebook(args, cwd, env)\n",
      "\u001b[1;31m  File \"/home/elijunior/.vscode/extensions/ms-toolsai.jupyter-2022.8.1002151035/pythonFiles/vscode_datascience_helpers/jupyter_daemon.py\", line 168, in _start_notebook\n",
      "\u001b[1;31m    app.launch_new_instance()\n",
      "\u001b[1;31m  File \"/home/elijunior/.local/lib/python3.10/site-packages/jupyter_core/application.py\", line 269, in launch_instance\n",
      "\u001b[1;31m    return super().launch_instance(argv=argv, **kwargs)\n",
      "\u001b[1;31m  File \"/home/elijunior/.local/lib/python3.10/site-packages/traitlets/config/application.py\", line 975, in launch_instance\n",
      "\u001b[1;31m    app.initialize(argv)\n",
      "\u001b[1;31m  File \"/home/elijunior/.local/lib/python3.10/site-packages/traitlets/config/application.py\", line 110, in inner\n",
      "\u001b[1;31m    return method(app, *args, **kwargs)\n",
      "\u001b[1;31m  File \"/home/elijunior/.local/lib/python3.10/site-packages/notebook/notebookapp.py\", line 2141, in initialize\n",
      "\u001b[1;31m    super().initialize(argv)\n",
      "\u001b[1;31m  File \"/home/elijunior/.local/lib/python3.10/site-packages/traitlets/config/application.py\", line 110, in inner\n",
      "\u001b[1;31m    return method(app, *args, **kwargs)\n",
      "\u001b[1;31m  File \"/home/elijunior/.local/lib/python3.10/site-packages/jupyter_core/application.py\", line 240, in initialize\n",
      "\u001b[1;31m    self.parse_command_line(argv)\n",
      "\u001b[1;31m  File \"/home/elijunior/.local/lib/python3.10/site-packages/notebook/notebookapp.py\", line 1611, in parse_command_line\n",
      "\u001b[1;31m    super().parse_command_line(argv)\n",
      "\u001b[1;31m  File \"/home/elijunior/.local/lib/python3.10/site-packages/traitlets/config/application.py\", line 114, in inner\n",
      "\u001b[1;31m    app.exit(1)\n",
      "\u001b[1;31m  File \"/home/elijunior/.local/lib/python3.10/site-packages/traitlets/config/application.py\", line 963, in exit\n",
      "\u001b[1;31m    sys.exit(exit_status)\n",
      "\u001b[1;31mSystemExit: 1\n",
      "\u001b[1;31m\n",
      "\u001b[1;31m[C 11:48:32.770 NotebookApp] Bad config encountered during initialization: No such notebook dir: ''/elijunior99/Python-Impressionador''\n",
      "\u001b[1;31m\n",
      "\u001b[1;31mFailed to run jupyter as observable with args notebook --no-browser --notebook-dir=\"/elijunior99/Python-Impressionador\" --config=/tmp/e053b9dd-c793-4846-8c64-4a2fca48a688/jupyter_notebook_config.py --NotebookApp.iopub_data_rate_limit=10000000000.0. \n",
      "View Jupyter <a href='command:jupyter.viewOutput'>log</a> for further details."
     ]
    }
   ],
   "source": [
    "produtos = ['apple tv', 'mac', 'iphone x', 'iphone 11', 'IPad', 'apple watch', 'mac book', 'airpods']\n",
    "novos_produtos = ['iphone 12', 'ioculos']\n",
    "\n",
    "todos_produtos = produtos + novos_produtos\n",
    "print(todos_produtos)"
   ]
  },
  {
   "cell_type": "markdown",
   "metadata": {},
   "source": [
    "### Cuidado:\n",
    "\n",
    "- [1] + [2] não é a mesma coisa que 1 + 2, então cuidado sempre com o formato dos valores na hora de fazer operações."
   ]
  },
  {
   "cell_type": "code",
   "execution_count": null,
   "metadata": {},
   "outputs": [],
   "source": [
    "vendas = [1000, 1500, 15000, 20000, 270, 900, 100, 1200]\n",
    "vendas_iphonex = [15000]\n",
    "vendas_iphone11 = [20000]\n",
    "\n",
    "total_iphone = vendas[2] + vendas[3]\n",
    "total_iphone_listas = vendas_iphonex[0] + vendas_iphone11[0]\n",
    "print(total_iphone)\n",
    "print(total_iphone_listas)"
   ]
  },
  {
   "cell_type": "markdown",
   "metadata": {},
   "source": [
    "### Ordenar listas\n",
    "\n",
    "lista.sort()"
   ]
  },
  {
   "cell_type": "code",
   "execution_count": null,
   "metadata": {},
   "outputs": [],
   "source": [
    "vendas.sort(reverse=False)\n",
    "print(vendas)"
   ]
  }
 ],
 "metadata": {
  "kernelspec": {
   "display_name": "Python 3.10.4 64-bit",
   "language": "python",
   "name": "python3"
  },
  "language_info": {
   "codemirror_mode": {
    "name": "ipython",
    "version": 3
   },
   "file_extension": ".py",
   "mimetype": "text/x-python",
   "name": "python",
   "nbconvert_exporter": "python",
   "pygments_lexer": "ipython3",
   "version": "3.10.4"
  },
  "vscode": {
   "interpreter": {
    "hash": "916dbcbb3f70747c44a77c7bcd40155683ae19c65e1c03b4aa3499c5328201f1"
   }
  }
 },
 "nbformat": 4,
 "nbformat_minor": 4
}
