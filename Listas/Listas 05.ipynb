{
 "cells": [
  {
   "cell_type": "markdown",
   "metadata": {},
   "source": [
    "# Algumas Funções Básicas de Lista\n",
    "\n",
    "## Tamanho da Lista\n",
    "\n",
    "tamanho = len(lista)"
   ]
  },
  {
   "cell_type": "code",
   "execution_count": 1,
   "metadata": {},
   "outputs": [],
   "source": [
    "produtos = ['apple tv', 'mac', 'iphone x', 'IPad', 'apple watch', 'mac book', 'airpods']"
   ]
  },
  {
   "cell_type": "markdown",
   "metadata": {},
   "source": [
    "- Quantos produtos temos a venda?"
   ]
  },
  {
   "cell_type": "code",
   "execution_count": 2,
   "metadata": {},
   "outputs": [
    {
     "name": "stdout",
     "output_type": "stream",
     "text": [
      "Temos 7 produtos.\n"
     ]
    }
   ],
   "source": [
    "tamanho = len(produtos)\n",
    "\n",
    "print('Temos {} produtos.'.format(tamanho))"
   ]
  },
  {
   "cell_type": "markdown",
   "metadata": {},
   "source": [
    "## Maior e Menor Valor\n",
    "\n",
    "maior = max(lista)\n",
    "\n",
    "menor = min(lista)"
   ]
  },
  {
   "cell_type": "code",
   "execution_count": 5,
   "metadata": {},
   "outputs": [],
   "source": [
    "vendas = [1000, 1500, 15000, 270, 900, 100, 1200]"
   ]
  },
  {
   "cell_type": "markdown",
   "metadata": {},
   "source": [
    "- Qual o item mais vendido?\n",
    "- Qual o item menos vendido?"
   ]
  },
  {
   "cell_type": "code",
   "execution_count": 16,
   "metadata": {},
   "outputs": [
    {
     "name": "stdout",
     "output_type": "stream",
     "text": [
      "O produto mais vendido foi o iphone x e teve 15000 vendas e o produto menos vendido foi o mac book e teve 100 vendas.\n"
     ]
    }
   ],
   "source": [
    "mais_vendido = max(vendas)\n",
    "menos_vendido = min(vendas)\n",
    "\n",
    "i_mais_vendido = vendas.index(mais_vendido)\n",
    "i_menos_vendido = vendas.index(menos_vendido)\n",
    "prod_mais_vendido = produtos[i_mais_vendido]\n",
    "prod_menos_vendido = produtos[i_menos_vendido]\n",
    "\n",
    "print('O produto mais vendido foi o {} e teve {} vendas e o produto menos vendido foi o {} e teve {} vendas.'.format(prod_mais_vendido, mais_vendido, prod_menos_vendido, menos_vendido))"
   ]
  }
 ],
 "metadata": {
  "kernelspec": {
   "display_name": "Python 3.10.5 64-bit (windows store)",
   "language": "python",
   "name": "python3"
  },
  "language_info": {
   "codemirror_mode": {
    "name": "ipython",
    "version": 3
   },
   "file_extension": ".py",
   "mimetype": "text/x-python",
   "name": "python",
   "nbconvert_exporter": "python",
   "pygments_lexer": "ipython3",
   "version": "3.10.5"
  },
  "vscode": {
   "interpreter": {
    "hash": "45bdd4b5b0aa61bc8f8cffae1ebc2ac17869ab76e20cdaf57ab34975c00198d5"
   }
  }
 },
 "nbformat": 4,
 "nbformat_minor": 4
}
