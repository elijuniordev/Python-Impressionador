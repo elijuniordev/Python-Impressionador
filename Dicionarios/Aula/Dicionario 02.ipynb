{
 "cells": [
  {
   "cell_type": "markdown",
   "metadata": {},
   "source": [
    "# Não confie na ordem dos dicionários, use as chaves\n",
    "\n",
    "### Python Versões Antigas x Versões Novas\n",
    "\n",
    "- Dicionários eram \"sem ordem\". Atualmente tem ordem, mas o certo é usar as chaves\n",
    "- 2 formas de pegar um valor:\n",
    "    - dicionario[chave]\n",
    "    - .get(chave)"
   ]
  },
  {
   "cell_type": "code",
   "execution_count": 2,
   "metadata": {},
   "outputs": [],
   "source": [
    "mais_vendidos = {'tecnologia': 'iphone', 'refrigeracao': 'ar consul 12000 btu', 'livros': 'o alquimista', 'eletrodoméstico': 'geladeira', 'lazer': 'prancha surf'}\n",
    "\n",
    "vendas_tecnologia = {'iphone': 15000, 'samsung galaxy': 12000, 'tv samsung': 10000, 'ps5': 14300, 'tablet': 1720, 'ipad': 1000, 'tv philco': 2500, 'notebook hp': 1000, 'notebook dell': 17000, 'notebook asus': 2450}"
   ]
  },
  {
   "cell_type": "markdown",
   "metadata": {},
   "source": [
    "- Qual foi o item mais vendido nas categorias 'livros' e 'lazer'?\n",
    "- Quanto foi vendido de 'notebook asus' e de 'ipad'?"
   ]
  },
  {
   "cell_type": "code",
   "execution_count": null,
   "metadata": {},
   "outputs": [],
   "source": [
    "# respondendo com a chave, igual a aula anterior\n",
    "print('O livro mais vendido foi {}'.format(mais_vendidos['livros']))\n",
    "print('O produto mais vendido em lazer foi {}'.format(mais_vendidos['lazer']))\n",
    "\n",
    "# respondendo com o método get\n",
    "print(vendas_tecnologia.get('notebook asus'))\n",
    "print('Vendemos {} ipads'.format(vendas_tecnologia.get('ipad')))"
   ]
  },
  {
   "cell_type": "code",
   "execution_count": 3,
   "metadata": {},
   "outputs": [
    {
     "ename": "KeyError",
     "evalue": "'ipads'",
     "output_type": "error",
     "traceback": [
      "\u001b[1;31m---------------------------------------------------------------------------\u001b[0m",
      "\u001b[1;31mKeyError\u001b[0m                                  Traceback (most recent call last)",
      "\u001b[1;32mi:\\Outros computadores\\Meu computador\\Dr. Consulta\\Python Impressionador\\Dicionarios\\Aula\\Dicionario 02.ipynb Célula: 5\u001b[0m in \u001b[0;36m<cell line: 1>\u001b[1;34m()\u001b[0m\n\u001b[1;32m----> <a href='vscode-notebook-cell:/i%3A/Outros%20computadores/Meu%20computador/Dr.%20Consulta/Python%20Impressionador/Dicionarios/Aula/Dicionario%2002.ipynb#W6sZmlsZQ%3D%3D?line=0'>1</a>\u001b[0m \u001b[39mprint\u001b[39m(vendas_tecnologia[\u001b[39m'\u001b[39;49m\u001b[39mipads\u001b[39;49m\u001b[39m'\u001b[39;49m])\n",
      "\u001b[1;31mKeyError\u001b[0m: 'ipads'"
     ]
    }
   ],
   "source": [
    "print(vendas_tecnologia['ipads'])"
   ]
  },
  {
   "cell_type": "markdown",
   "metadata": {},
   "source": [
    "### Verificar se item está no dicionário:\n",
    "\n",
    "- if\n",
    "- .get(chave) = None\n",
    "\n",
    "Se tentarmos procurar as vendas de \"copo\" na lista de vendas tecnologia, o que acontece?"
   ]
  },
  {
   "cell_type": "code",
   "execution_count": 7,
   "metadata": {},
   "outputs": [
    {
     "name": "stdout",
     "output_type": "stream",
     "text": [
      "Copo não está dentro da lista de produtos de tecnologia\n"
     ]
    }
   ],
   "source": [
    "if 'copo' in vendas_tecnologia:\n",
    "    print(vendas_tecnologia['copo'])\n",
    "else:\n",
    "    print('Copo não está dentro da lista de produtos de tecnologia')"
   ]
  },
  {
   "cell_type": "code",
   "execution_count": 5,
   "metadata": {},
   "outputs": [
    {
     "name": "stdout",
     "output_type": "stream",
     "text": [
      "Copo não está dentro da lista de produtos de tecnologia\n"
     ]
    }
   ],
   "source": [
    "if vendas_tecnologia.get('copo') == None:\n",
    "    print('Copo não está dentro da lista de produtos de tecnologia')\n",
    "else:\n",
    "    print(vendas_tecnologia.get('copo'))"
   ]
  }
 ],
 "metadata": {
  "kernelspec": {
   "display_name": "Python 3.10.6 64-bit (windows store)",
   "language": "python",
   "name": "python3"
  },
  "language_info": {
   "codemirror_mode": {
    "name": "ipython",
    "version": 3
   },
   "file_extension": ".py",
   "mimetype": "text/x-python",
   "name": "python",
   "nbconvert_exporter": "python",
   "pygments_lexer": "ipython3",
   "version": "3.10.6"
  },
  "vscode": {
   "interpreter": {
    "hash": "582bac1d02c6c8cbd27dd91c74044d14e2b63f14cda36d56af554a884b3aa477"
   }
  }
 },
 "nbformat": 4,
 "nbformat_minor": 4
}
