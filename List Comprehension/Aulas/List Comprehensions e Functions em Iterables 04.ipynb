{
 "cells": [
  {
   "cell_type": "markdown",
   "metadata": {},
   "source": [
    "# List Comprehension com if para escolher o resultado final\n",
    "\n",
    "### Estrutura:"
   ]
  },
  {
   "cell_type": "raw",
   "metadata": {},
   "source": [
    "lista = [item if condicao else outro_resultado for item in iterable]"
   ]
  },
  {
   "cell_type": "markdown",
   "metadata": {},
   "source": [
    "- Digamos que eu esteja analisando os vendedores de uma loja e queira criar uma lista para enviar para o RH com o bônus de cada vendedor.\n",
    "- O bônus é dado por 10% do valor de vendas dele, caso ele tenha batido a meta"
   ]
  },
  {
   "cell_type": "code",
   "execution_count": 1,
   "metadata": {},
   "outputs": [
    {
     "ename": "ValueError",
     "evalue": "too many values to unpack (expected 2)",
     "output_type": "error",
     "traceback": [
      "\u001b[1;31m---------------------------------------------------------------------------\u001b[0m",
      "\u001b[1;31mValueError\u001b[0m                                Traceback (most recent call last)",
      "\u001b[1;32mh:\\Outros computadores\\Meu computador\\Dr. Consulta\\Python Impressionador\\List Comprehension\\Aulas\\List Comprehensions e Functions em Iterables 04.ipynb Célula: 4\u001b[0m in \u001b[0;36m<cell line: 4>\u001b[1;34m()\u001b[0m\n\u001b[0;32m      <a href='vscode-notebook-cell:/h%3A/Outros%20computadores/Meu%20computador/Dr.%20Consulta/Python%20Impressionador/List%20Comprehension/Aulas/List%20Comprehensions%20e%20Functions%20em%20Iterables%2004.ipynb#W3sZmlsZQ%3D%3D?line=0'>1</a>\u001b[0m vendedores_dic \u001b[39m=\u001b[39m {\u001b[39m'\u001b[39m\u001b[39mMaria\u001b[39m\u001b[39m'\u001b[39m: \u001b[39m1200\u001b[39m, \u001b[39m'\u001b[39m\u001b[39mJosé\u001b[39m\u001b[39m'\u001b[39m: \u001b[39m300\u001b[39m, \u001b[39m'\u001b[39m\u001b[39mAntônio\u001b[39m\u001b[39m'\u001b[39m: \u001b[39m800\u001b[39m, \u001b[39m'\u001b[39m\u001b[39mJoão\u001b[39m\u001b[39m'\u001b[39m: \u001b[39m1500\u001b[39m, \u001b[39m'\u001b[39m\u001b[39mFrancisco\u001b[39m\u001b[39m'\u001b[39m: \u001b[39m1900\u001b[39m, \u001b[39m'\u001b[39m\u001b[39mAna\u001b[39m\u001b[39m'\u001b[39m: \u001b[39m2750\u001b[39m, \u001b[39m'\u001b[39m\u001b[39mLuiz\u001b[39m\u001b[39m'\u001b[39m: \u001b[39m400\u001b[39m, \u001b[39m'\u001b[39m\u001b[39mPaulo\u001b[39m\u001b[39m'\u001b[39m: \u001b[39m20\u001b[39m, \u001b[39m'\u001b[39m\u001b[39mCarlos\u001b[39m\u001b[39m'\u001b[39m: \u001b[39m23\u001b[39m, \u001b[39m'\u001b[39m\u001b[39mManoel\u001b[39m\u001b[39m'\u001b[39m: \u001b[39m70\u001b[39m, \u001b[39m'\u001b[39m\u001b[39mPedro\u001b[39m\u001b[39m'\u001b[39m: \u001b[39m90\u001b[39m, \u001b[39m'\u001b[39m\u001b[39mFrancisca\u001b[39m\u001b[39m'\u001b[39m: \u001b[39m80\u001b[39m, \u001b[39m'\u001b[39m\u001b[39mMarcos\u001b[39m\u001b[39m'\u001b[39m: \u001b[39m1100\u001b[39m, \u001b[39m'\u001b[39m\u001b[39mRaimundo\u001b[39m\u001b[39m'\u001b[39m: \u001b[39m999\u001b[39m, \u001b[39m'\u001b[39m\u001b[39mSebastião\u001b[39m\u001b[39m'\u001b[39m: \u001b[39m900\u001b[39m, \u001b[39m'\u001b[39m\u001b[39mAntônia\u001b[39m\u001b[39m'\u001b[39m: \u001b[39m880\u001b[39m, \u001b[39m'\u001b[39m\u001b[39mMarcelo\u001b[39m\u001b[39m'\u001b[39m: \u001b[39m870\u001b[39m, \u001b[39m'\u001b[39m\u001b[39mJorge\u001b[39m\u001b[39m'\u001b[39m: \u001b[39m50\u001b[39m, \u001b[39m'\u001b[39m\u001b[39mMárcia\u001b[39m\u001b[39m'\u001b[39m: \u001b[39m1111\u001b[39m, \u001b[39m'\u001b[39m\u001b[39mGeraldo\u001b[39m\u001b[39m'\u001b[39m: \u001b[39m120\u001b[39m, \u001b[39m'\u001b[39m\u001b[39mAdriana\u001b[39m\u001b[39m'\u001b[39m: \u001b[39m300\u001b[39m, \u001b[39m'\u001b[39m\u001b[39mSandra\u001b[39m\u001b[39m'\u001b[39m: \u001b[39m450\u001b[39m, \u001b[39m'\u001b[39m\u001b[39mLuis\u001b[39m\u001b[39m'\u001b[39m: \u001b[39m800\u001b[39m}\n\u001b[0;32m      <a href='vscode-notebook-cell:/h%3A/Outros%20computadores/Meu%20computador/Dr.%20Consulta/Python%20Impressionador/List%20Comprehension/Aulas/List%20Comprehensions%20e%20Functions%20em%20Iterables%2004.ipynb#W3sZmlsZQ%3D%3D?line=1'>2</a>\u001b[0m meta \u001b[39m=\u001b[39m \u001b[39m1000\u001b[39m\n\u001b[1;32m----> <a href='vscode-notebook-cell:/h%3A/Outros%20computadores/Meu%20computador/Dr.%20Consulta/Python%20Impressionador/List%20Comprehension/Aulas/List%20Comprehensions%20e%20Functions%20em%20Iterables%2004.ipynb#W3sZmlsZQ%3D%3D?line=3'>4</a>\u001b[0m vendedor, vendas \u001b[39m=\u001b[39m vendedores_dic\n\u001b[0;32m      <a href='vscode-notebook-cell:/h%3A/Outros%20computadores/Meu%20computador/Dr.%20Consulta/Python%20Impressionador/List%20Comprehension/Aulas/List%20Comprehensions%20e%20Functions%20em%20Iterables%2004.ipynb#W3sZmlsZQ%3D%3D?line=5'>6</a>\u001b[0m \u001b[39mprint\u001b[39m(vendedor)\n",
      "\u001b[1;31mValueError\u001b[0m: too many values to unpack (expected 2)"
     ]
    }
   ],
   "source": [
    "vendedores_dic = {'Maria': 1200, 'José': 300, 'Antônio': 800, 'João': 1500, 'Francisco': 1900, 'Ana': 2750, 'Luiz': 400, 'Paulo': 20, 'Carlos': 23, 'Manoel': 70, 'Pedro': 90, 'Francisca': 80, 'Marcos': 1100, 'Raimundo': 999, 'Sebastião': 900, 'Antônia': 880, 'Marcelo': 870, 'Jorge': 50, 'Márcia': 1111, 'Geraldo': 120, 'Adriana': 300, 'Sandra': 450, 'Luis': 800}\n",
    "meta = 1000\n",
    "\n",
    "vendedor, vendas = vendedores_dic\n",
    "\n",
    "print(vendedor)"
   ]
  },
  {
   "cell_type": "markdown",
   "metadata": {},
   "source": [
    "- Fazendo por for"
   ]
  },
  {
   "cell_type": "code",
   "execution_count": null,
   "metadata": {},
   "outputs": [],
   "source": [
    "\n",
    "print(bonus)"
   ]
  },
  {
   "cell_type": "markdown",
   "metadata": {},
   "source": [
    "- Fazendo por List Comprehension"
   ]
  },
  {
   "cell_type": "code",
   "execution_count": null,
   "metadata": {},
   "outputs": [],
   "source": [
    "\n",
    "print(bonus)"
   ]
  }
 ],
 "metadata": {
  "kernelspec": {
   "display_name": "Python 3.10.6 64-bit (windows store)",
   "language": "python",
   "name": "python3"
  },
  "language_info": {
   "codemirror_mode": {
    "name": "ipython",
    "version": 3
   },
   "file_extension": ".py",
   "mimetype": "text/x-python",
   "name": "python",
   "nbconvert_exporter": "python",
   "pygments_lexer": "ipython3",
   "version": "3.10.6"
  },
  "vscode": {
   "interpreter": {
    "hash": "45bdd4b5b0aa61bc8f8cffae1ebc2ac17869ab76e20cdaf57ab34975c00198d5"
   }
  }
 },
 "nbformat": 4,
 "nbformat_minor": 4
}
